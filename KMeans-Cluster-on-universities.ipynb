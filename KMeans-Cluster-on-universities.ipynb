{
 "cells": [
  {
   "cell_type": "markdown",
   "metadata": {},
   "source": [
    "# Project: K Means Clustering on Universities."
   ]
  },
  {
   "cell_type": "markdown",
   "metadata": {},
   "source": [
    "## Table of Contents\n",
    "    .Introduction to Dataset\n",
    "    .Data Wrangling and Cleaning\n",
    "    .EDA\n",
    "    .K Means Clustering Algorithm\n",
    "    .Conclusion"
   ]
  },
  {
   "cell_type": "markdown",
   "metadata": {},
   "source": [
    "## Introduction to Dataset:"
   ]
  },
  {
   "cell_type": "markdown",
   "metadata": {},
   "source": [
    "### About the Dataset:\n",
    "This dataset shows statistics for a large number of US Colleges from the 1995 issue of US News and World Report.\n",
    "\n",
    "It also have 777 university with the following 19 feature\n",
    "\n",
    "### Features:\n",
    "\n",
    "    .Uni_Name: The name of the university\n",
    "    .Private: Indicating private or puplic university\n",
    "    .Apps: Number of applications recieved\n",
    "    .Accept: Number of applications accepted\n",
    "    .Enroll: Number of new students enrolled\n",
    "    .Top10perc: Percentage of new students from top 10% of High School class\n",
    "    .Top25perc: Percentage of new students from top 25% of High School class\n",
    "    .F.Undergrad: Number of fulltime undergraduates\n",
    "    .P.Undergrad: Number of parttime undergraduates\n",
    "    .Outstate: Out of state tuition\n",
    "    .Room.Board: Room and board cost\n",
    "    .Books: Estimated books cost\n",
    "    .Personal: Estimated personal spendings\n",
    "    .PhD: Percentage of faculty with PhD's\n",
    "    .Terminal: Percentage of faculty with terminal degree\n",
    "    .S.F.Ratio: Student to faculty ratio\n",
    "    .perc.alumni: Percentage of alumni who donate\n",
    "    .Expend: Instructional expenditure\n",
    "    .Grad.Rate: Graduation rate\n"
   ]
  },
  {
   "cell_type": "markdown",
   "metadata": {},
   "source": [
    "With these features we will asking some questions:\n",
    "\n",
    "    1. What is the precantage between Private and Puplic Universities?\n",
    "    2. Which category has a higher graduation rate?\n",
    "    3. What is The Distribution of tuitions across Universities?\n",
    "    "
   ]
  },
  {
   "cell_type": "markdown",
   "metadata": {},
   "source": [
    "### IMPORTANT:\n",
    "#### Even though we have the labels for this dataset, we will apply the K Means cluster algorithm and use the labels to evaluate the Model"
   ]
  },
  {
   "cell_type": "markdown",
   "metadata": {},
   "source": [
    "### Importing Libraries"
   ]
  },
  {
   "cell_type": "code",
   "execution_count": 125,
   "metadata": {},
   "outputs": [],
   "source": [
    "import pandas as pd\n",
    "import numpy as np\n",
    "import matplotlib.pyplot as plt\n",
    "import seaborn as sns\n",
    "%matplotlib inline"
   ]
  },
  {
   "cell_type": "markdown",
   "metadata": {},
   "source": [
    "### Data Wrangling\n",
    "In this section we will load the data, check for cleanliness, duplicated rows, any nulls, and any illogical values. and then clean the dataset for the analysis."
   ]
  },
  {
   "cell_type": "code",
   "execution_count": 92,
   "metadata": {},
   "outputs": [
    {
     "data": {
      "text/html": [
       "<div>\n",
       "<style scoped>\n",
       "    .dataframe tbody tr th:only-of-type {\n",
       "        vertical-align: middle;\n",
       "    }\n",
       "\n",
       "    .dataframe tbody tr th {\n",
       "        vertical-align: top;\n",
       "    }\n",
       "\n",
       "    .dataframe thead th {\n",
       "        text-align: right;\n",
       "    }\n",
       "</style>\n",
       "<table border=\"1\" class=\"dataframe\">\n",
       "  <thead>\n",
       "    <tr style=\"text-align: right;\">\n",
       "      <th></th>\n",
       "      <th>Unnamed: 0</th>\n",
       "      <th>Private</th>\n",
       "      <th>Apps</th>\n",
       "      <th>Accept</th>\n",
       "      <th>Enroll</th>\n",
       "      <th>Top10perc</th>\n",
       "      <th>Top25perc</th>\n",
       "      <th>F.Undergrad</th>\n",
       "      <th>P.Undergrad</th>\n",
       "      <th>Outstate</th>\n",
       "      <th>Room.Board</th>\n",
       "      <th>Books</th>\n",
       "      <th>Personal</th>\n",
       "      <th>PhD</th>\n",
       "      <th>Terminal</th>\n",
       "      <th>S.F.Ratio</th>\n",
       "      <th>perc.alumni</th>\n",
       "      <th>Expend</th>\n",
       "      <th>Grad.Rate</th>\n",
       "    </tr>\n",
       "  </thead>\n",
       "  <tbody>\n",
       "    <tr>\n",
       "      <th>0</th>\n",
       "      <td>Abilene Christian University</td>\n",
       "      <td>Yes</td>\n",
       "      <td>1660</td>\n",
       "      <td>1232</td>\n",
       "      <td>721</td>\n",
       "      <td>23</td>\n",
       "      <td>52</td>\n",
       "      <td>2885</td>\n",
       "      <td>537</td>\n",
       "      <td>7440</td>\n",
       "      <td>3300</td>\n",
       "      <td>450</td>\n",
       "      <td>2200</td>\n",
       "      <td>70</td>\n",
       "      <td>78</td>\n",
       "      <td>18.1</td>\n",
       "      <td>12</td>\n",
       "      <td>7041</td>\n",
       "      <td>60</td>\n",
       "    </tr>\n",
       "    <tr>\n",
       "      <th>1</th>\n",
       "      <td>Adelphi University</td>\n",
       "      <td>Yes</td>\n",
       "      <td>2186</td>\n",
       "      <td>1924</td>\n",
       "      <td>512</td>\n",
       "      <td>16</td>\n",
       "      <td>29</td>\n",
       "      <td>2683</td>\n",
       "      <td>1227</td>\n",
       "      <td>12280</td>\n",
       "      <td>6450</td>\n",
       "      <td>750</td>\n",
       "      <td>1500</td>\n",
       "      <td>29</td>\n",
       "      <td>30</td>\n",
       "      <td>12.2</td>\n",
       "      <td>16</td>\n",
       "      <td>10527</td>\n",
       "      <td>56</td>\n",
       "    </tr>\n",
       "  </tbody>\n",
       "</table>\n",
       "</div>"
      ],
      "text/plain": [
       "                     Unnamed: 0 Private  Apps  Accept  Enroll  Top10perc  \\\n",
       "0  Abilene Christian University     Yes  1660    1232     721         23   \n",
       "1            Adelphi University     Yes  2186    1924     512         16   \n",
       "\n",
       "   Top25perc  F.Undergrad  P.Undergrad  Outstate  Room.Board  Books  Personal  \\\n",
       "0         52         2885          537      7440        3300    450      2200   \n",
       "1         29         2683         1227     12280        6450    750      1500   \n",
       "\n",
       "   PhD  Terminal  S.F.Ratio  perc.alumni  Expend  Grad.Rate  \n",
       "0   70        78       18.1           12    7041         60  \n",
       "1   29        30       12.2           16   10527         56  "
      ]
     },
     "execution_count": 92,
     "metadata": {},
     "output_type": "execute_result"
    }
   ],
   "source": [
    "#load data\n",
    "df = pd.read_csv('College_Data')\n",
    "df.head(2)"
   ]
  },
  {
   "cell_type": "markdown",
   "metadata": {},
   "source": [
    "##### First thing, i'll rename the first column to be the university's name, and rename each column making them lower cased and replacing each space with \"_\" for consistincy\n",
    "\n",
    "##### i'll change the values of the private columns making them either 0 or 1"
   ]
  },
  {
   "cell_type": "code",
   "execution_count": 93,
   "metadata": {},
   "outputs": [
    {
     "data": {
      "text/html": [
       "<div>\n",
       "<style scoped>\n",
       "    .dataframe tbody tr th:only-of-type {\n",
       "        vertical-align: middle;\n",
       "    }\n",
       "\n",
       "    .dataframe tbody tr th {\n",
       "        vertical-align: top;\n",
       "    }\n",
       "\n",
       "    .dataframe thead th {\n",
       "        text-align: right;\n",
       "    }\n",
       "</style>\n",
       "<table border=\"1\" class=\"dataframe\">\n",
       "  <thead>\n",
       "    <tr style=\"text-align: right;\">\n",
       "      <th></th>\n",
       "      <th>uni_name</th>\n",
       "      <th>private</th>\n",
       "      <th>apps</th>\n",
       "      <th>accept</th>\n",
       "      <th>enroll</th>\n",
       "      <th>top10perc</th>\n",
       "      <th>top25perc</th>\n",
       "      <th>f.undergrad</th>\n",
       "      <th>p.undergrad</th>\n",
       "      <th>outstate</th>\n",
       "      <th>room.board</th>\n",
       "      <th>books</th>\n",
       "      <th>personal</th>\n",
       "      <th>phd</th>\n",
       "      <th>terminal</th>\n",
       "      <th>s.f.ratio</th>\n",
       "      <th>perc.alumni</th>\n",
       "      <th>expend</th>\n",
       "      <th>grad.rate</th>\n",
       "    </tr>\n",
       "  </thead>\n",
       "  <tbody>\n",
       "    <tr>\n",
       "      <th>0</th>\n",
       "      <td>Abilene Christian University</td>\n",
       "      <td>1</td>\n",
       "      <td>1660</td>\n",
       "      <td>1232</td>\n",
       "      <td>721</td>\n",
       "      <td>23</td>\n",
       "      <td>52</td>\n",
       "      <td>2885</td>\n",
       "      <td>537</td>\n",
       "      <td>7440</td>\n",
       "      <td>3300</td>\n",
       "      <td>450</td>\n",
       "      <td>2200</td>\n",
       "      <td>70</td>\n",
       "      <td>78</td>\n",
       "      <td>18.1</td>\n",
       "      <td>12</td>\n",
       "      <td>7041</td>\n",
       "      <td>60</td>\n",
       "    </tr>\n",
       "    <tr>\n",
       "      <th>1</th>\n",
       "      <td>Adelphi University</td>\n",
       "      <td>1</td>\n",
       "      <td>2186</td>\n",
       "      <td>1924</td>\n",
       "      <td>512</td>\n",
       "      <td>16</td>\n",
       "      <td>29</td>\n",
       "      <td>2683</td>\n",
       "      <td>1227</td>\n",
       "      <td>12280</td>\n",
       "      <td>6450</td>\n",
       "      <td>750</td>\n",
       "      <td>1500</td>\n",
       "      <td>29</td>\n",
       "      <td>30</td>\n",
       "      <td>12.2</td>\n",
       "      <td>16</td>\n",
       "      <td>10527</td>\n",
       "      <td>56</td>\n",
       "    </tr>\n",
       "  </tbody>\n",
       "</table>\n",
       "</div>"
      ],
      "text/plain": [
       "                       uni_name  private  apps  accept  enroll  top10perc  \\\n",
       "0  Abilene Christian University        1  1660    1232     721         23   \n",
       "1            Adelphi University        1  2186    1924     512         16   \n",
       "\n",
       "   top25perc  f.undergrad  p.undergrad  outstate  room.board  books  personal  \\\n",
       "0         52         2885          537      7440        3300    450      2200   \n",
       "1         29         2683         1227     12280        6450    750      1500   \n",
       "\n",
       "   phd  terminal  s.f.ratio  perc.alumni  expend  grad.rate  \n",
       "0   70        78       18.1           12    7041         60  \n",
       "1   29        30       12.2           16   10527         56  "
      ]
     },
     "execution_count": 93,
     "metadata": {},
     "output_type": "execute_result"
    }
   ],
   "source": [
    "#rename columns\n",
    "df = df.rename(columns={'Unnamed: 0':'uni_name'})\n",
    "df.rename(columns = lambda x : x.lower().replace(' ','_'),\n",
    "          inplace = True)\n",
    "df['private'] = df['private'].apply(lambda x : ['No','Yes'].index(x))\n",
    "df.head(2)"
   ]
  },
  {
   "cell_type": "code",
   "execution_count": 94,
   "metadata": {},
   "outputs": [
    {
     "name": "stdout",
     "output_type": "stream",
     "text": [
      "The data has 777 samples and 19 features\n"
     ]
    }
   ],
   "source": [
    "#shape of data\n",
    "print('The data has {} samples and {} features'.format(df.shape[0],\n",
    "                                                       df.shape[1]))"
   ]
  },
  {
   "cell_type": "code",
   "execution_count": 95,
   "metadata": {},
   "outputs": [
    {
     "name": "stdout",
     "output_type": "stream",
     "text": [
      "<class 'pandas.core.frame.DataFrame'>\n",
      "RangeIndex: 777 entries, 0 to 776\n",
      "Data columns (total 19 columns):\n",
      "uni_name       777 non-null object\n",
      "private        777 non-null int64\n",
      "apps           777 non-null int64\n",
      "accept         777 non-null int64\n",
      "enroll         777 non-null int64\n",
      "top10perc      777 non-null int64\n",
      "top25perc      777 non-null int64\n",
      "f.undergrad    777 non-null int64\n",
      "p.undergrad    777 non-null int64\n",
      "outstate       777 non-null int64\n",
      "room.board     777 non-null int64\n",
      "books          777 non-null int64\n",
      "personal       777 non-null int64\n",
      "phd            777 non-null int64\n",
      "terminal       777 non-null int64\n",
      "s.f.ratio      777 non-null float64\n",
      "perc.alumni    777 non-null int64\n",
      "expend         777 non-null int64\n",
      "grad.rate      777 non-null int64\n",
      "dtypes: float64(1), int64(17), object(1)\n",
      "memory usage: 115.4+ KB\n"
     ]
    }
   ],
   "source": [
    "#looking at columns datatypes\n",
    "df.info()"
   ]
  },
  {
   "cell_type": "markdown",
   "metadata": {},
   "source": [
    "##### each columns seem to have the right datatype"
   ]
  },
  {
   "cell_type": "code",
   "execution_count": 96,
   "metadata": {},
   "outputs": [
    {
     "name": "stdout",
     "output_type": "stream",
     "text": [
      "The Data has a total of 0 nulls\n"
     ]
    }
   ],
   "source": [
    "#checking for nulls\n",
    "print('The Data has a total of {} nulls'.format(df.isnull().sum().sum()))"
   ]
  },
  {
   "cell_type": "code",
   "execution_count": 97,
   "metadata": {},
   "outputs": [
    {
     "name": "stdout",
     "output_type": "stream",
     "text": [
      "The number of duplicated rows:0\n"
     ]
    }
   ],
   "source": [
    "#checking for duplicated rows\n",
    "print('The number of duplicated rows:{}'.format(df.duplicated().sum()))"
   ]
  },
  {
   "cell_type": "code",
   "execution_count": 98,
   "metadata": {},
   "outputs": [
    {
     "data": {
      "text/html": [
       "<div>\n",
       "<style scoped>\n",
       "    .dataframe tbody tr th:only-of-type {\n",
       "        vertical-align: middle;\n",
       "    }\n",
       "\n",
       "    .dataframe tbody tr th {\n",
       "        vertical-align: top;\n",
       "    }\n",
       "\n",
       "    .dataframe thead th {\n",
       "        text-align: right;\n",
       "    }\n",
       "</style>\n",
       "<table border=\"1\" class=\"dataframe\">\n",
       "  <thead>\n",
       "    <tr style=\"text-align: right;\">\n",
       "      <th></th>\n",
       "      <th>private</th>\n",
       "      <th>apps</th>\n",
       "      <th>accept</th>\n",
       "      <th>enroll</th>\n",
       "      <th>top10perc</th>\n",
       "      <th>top25perc</th>\n",
       "      <th>f.undergrad</th>\n",
       "      <th>p.undergrad</th>\n",
       "      <th>outstate</th>\n",
       "      <th>room.board</th>\n",
       "      <th>books</th>\n",
       "      <th>personal</th>\n",
       "      <th>phd</th>\n",
       "      <th>terminal</th>\n",
       "      <th>s.f.ratio</th>\n",
       "      <th>perc.alumni</th>\n",
       "      <th>expend</th>\n",
       "      <th>grad.rate</th>\n",
       "    </tr>\n",
       "  </thead>\n",
       "  <tbody>\n",
       "    <tr>\n",
       "      <th>count</th>\n",
       "      <td>777.000000</td>\n",
       "      <td>777.000000</td>\n",
       "      <td>777.000000</td>\n",
       "      <td>777.000000</td>\n",
       "      <td>777.000000</td>\n",
       "      <td>777.000000</td>\n",
       "      <td>777.000000</td>\n",
       "      <td>777.000000</td>\n",
       "      <td>777.000000</td>\n",
       "      <td>777.000000</td>\n",
       "      <td>777.000000</td>\n",
       "      <td>777.000000</td>\n",
       "      <td>777.000000</td>\n",
       "      <td>777.000000</td>\n",
       "      <td>777.000000</td>\n",
       "      <td>777.000000</td>\n",
       "      <td>777.000000</td>\n",
       "      <td>777.00000</td>\n",
       "    </tr>\n",
       "    <tr>\n",
       "      <th>mean</th>\n",
       "      <td>0.727156</td>\n",
       "      <td>3001.638353</td>\n",
       "      <td>2018.804376</td>\n",
       "      <td>779.972973</td>\n",
       "      <td>27.558559</td>\n",
       "      <td>55.796654</td>\n",
       "      <td>3699.907336</td>\n",
       "      <td>855.298584</td>\n",
       "      <td>10440.669241</td>\n",
       "      <td>4357.526384</td>\n",
       "      <td>549.380952</td>\n",
       "      <td>1340.642214</td>\n",
       "      <td>72.660232</td>\n",
       "      <td>79.702703</td>\n",
       "      <td>14.089704</td>\n",
       "      <td>22.743887</td>\n",
       "      <td>9660.171171</td>\n",
       "      <td>65.46332</td>\n",
       "    </tr>\n",
       "    <tr>\n",
       "      <th>std</th>\n",
       "      <td>0.445708</td>\n",
       "      <td>3870.201484</td>\n",
       "      <td>2451.113971</td>\n",
       "      <td>929.176190</td>\n",
       "      <td>17.640364</td>\n",
       "      <td>19.804778</td>\n",
       "      <td>4850.420531</td>\n",
       "      <td>1522.431887</td>\n",
       "      <td>4023.016484</td>\n",
       "      <td>1096.696416</td>\n",
       "      <td>165.105360</td>\n",
       "      <td>677.071454</td>\n",
       "      <td>16.328155</td>\n",
       "      <td>14.722359</td>\n",
       "      <td>3.958349</td>\n",
       "      <td>12.391801</td>\n",
       "      <td>5221.768440</td>\n",
       "      <td>17.17771</td>\n",
       "    </tr>\n",
       "    <tr>\n",
       "      <th>min</th>\n",
       "      <td>0.000000</td>\n",
       "      <td>81.000000</td>\n",
       "      <td>72.000000</td>\n",
       "      <td>35.000000</td>\n",
       "      <td>1.000000</td>\n",
       "      <td>9.000000</td>\n",
       "      <td>139.000000</td>\n",
       "      <td>1.000000</td>\n",
       "      <td>2340.000000</td>\n",
       "      <td>1780.000000</td>\n",
       "      <td>96.000000</td>\n",
       "      <td>250.000000</td>\n",
       "      <td>8.000000</td>\n",
       "      <td>24.000000</td>\n",
       "      <td>2.500000</td>\n",
       "      <td>0.000000</td>\n",
       "      <td>3186.000000</td>\n",
       "      <td>10.00000</td>\n",
       "    </tr>\n",
       "    <tr>\n",
       "      <th>25%</th>\n",
       "      <td>0.000000</td>\n",
       "      <td>776.000000</td>\n",
       "      <td>604.000000</td>\n",
       "      <td>242.000000</td>\n",
       "      <td>15.000000</td>\n",
       "      <td>41.000000</td>\n",
       "      <td>992.000000</td>\n",
       "      <td>95.000000</td>\n",
       "      <td>7320.000000</td>\n",
       "      <td>3597.000000</td>\n",
       "      <td>470.000000</td>\n",
       "      <td>850.000000</td>\n",
       "      <td>62.000000</td>\n",
       "      <td>71.000000</td>\n",
       "      <td>11.500000</td>\n",
       "      <td>13.000000</td>\n",
       "      <td>6751.000000</td>\n",
       "      <td>53.00000</td>\n",
       "    </tr>\n",
       "    <tr>\n",
       "      <th>50%</th>\n",
       "      <td>1.000000</td>\n",
       "      <td>1558.000000</td>\n",
       "      <td>1110.000000</td>\n",
       "      <td>434.000000</td>\n",
       "      <td>23.000000</td>\n",
       "      <td>54.000000</td>\n",
       "      <td>1707.000000</td>\n",
       "      <td>353.000000</td>\n",
       "      <td>9990.000000</td>\n",
       "      <td>4200.000000</td>\n",
       "      <td>500.000000</td>\n",
       "      <td>1200.000000</td>\n",
       "      <td>75.000000</td>\n",
       "      <td>82.000000</td>\n",
       "      <td>13.600000</td>\n",
       "      <td>21.000000</td>\n",
       "      <td>8377.000000</td>\n",
       "      <td>65.00000</td>\n",
       "    </tr>\n",
       "    <tr>\n",
       "      <th>75%</th>\n",
       "      <td>1.000000</td>\n",
       "      <td>3624.000000</td>\n",
       "      <td>2424.000000</td>\n",
       "      <td>902.000000</td>\n",
       "      <td>35.000000</td>\n",
       "      <td>69.000000</td>\n",
       "      <td>4005.000000</td>\n",
       "      <td>967.000000</td>\n",
       "      <td>12925.000000</td>\n",
       "      <td>5050.000000</td>\n",
       "      <td>600.000000</td>\n",
       "      <td>1700.000000</td>\n",
       "      <td>85.000000</td>\n",
       "      <td>92.000000</td>\n",
       "      <td>16.500000</td>\n",
       "      <td>31.000000</td>\n",
       "      <td>10830.000000</td>\n",
       "      <td>78.00000</td>\n",
       "    </tr>\n",
       "    <tr>\n",
       "      <th>max</th>\n",
       "      <td>1.000000</td>\n",
       "      <td>48094.000000</td>\n",
       "      <td>26330.000000</td>\n",
       "      <td>6392.000000</td>\n",
       "      <td>96.000000</td>\n",
       "      <td>100.000000</td>\n",
       "      <td>31643.000000</td>\n",
       "      <td>21836.000000</td>\n",
       "      <td>21700.000000</td>\n",
       "      <td>8124.000000</td>\n",
       "      <td>2340.000000</td>\n",
       "      <td>6800.000000</td>\n",
       "      <td>103.000000</td>\n",
       "      <td>100.000000</td>\n",
       "      <td>39.800000</td>\n",
       "      <td>64.000000</td>\n",
       "      <td>56233.000000</td>\n",
       "      <td>118.00000</td>\n",
       "    </tr>\n",
       "  </tbody>\n",
       "</table>\n",
       "</div>"
      ],
      "text/plain": [
       "          private          apps        accept       enroll   top10perc  \\\n",
       "count  777.000000    777.000000    777.000000   777.000000  777.000000   \n",
       "mean     0.727156   3001.638353   2018.804376   779.972973   27.558559   \n",
       "std      0.445708   3870.201484   2451.113971   929.176190   17.640364   \n",
       "min      0.000000     81.000000     72.000000    35.000000    1.000000   \n",
       "25%      0.000000    776.000000    604.000000   242.000000   15.000000   \n",
       "50%      1.000000   1558.000000   1110.000000   434.000000   23.000000   \n",
       "75%      1.000000   3624.000000   2424.000000   902.000000   35.000000   \n",
       "max      1.000000  48094.000000  26330.000000  6392.000000   96.000000   \n",
       "\n",
       "        top25perc   f.undergrad   p.undergrad      outstate   room.board  \\\n",
       "count  777.000000    777.000000    777.000000    777.000000   777.000000   \n",
       "mean    55.796654   3699.907336    855.298584  10440.669241  4357.526384   \n",
       "std     19.804778   4850.420531   1522.431887   4023.016484  1096.696416   \n",
       "min      9.000000    139.000000      1.000000   2340.000000  1780.000000   \n",
       "25%     41.000000    992.000000     95.000000   7320.000000  3597.000000   \n",
       "50%     54.000000   1707.000000    353.000000   9990.000000  4200.000000   \n",
       "75%     69.000000   4005.000000    967.000000  12925.000000  5050.000000   \n",
       "max    100.000000  31643.000000  21836.000000  21700.000000  8124.000000   \n",
       "\n",
       "             books     personal         phd    terminal   s.f.ratio  \\\n",
       "count   777.000000   777.000000  777.000000  777.000000  777.000000   \n",
       "mean    549.380952  1340.642214   72.660232   79.702703   14.089704   \n",
       "std     165.105360   677.071454   16.328155   14.722359    3.958349   \n",
       "min      96.000000   250.000000    8.000000   24.000000    2.500000   \n",
       "25%     470.000000   850.000000   62.000000   71.000000   11.500000   \n",
       "50%     500.000000  1200.000000   75.000000   82.000000   13.600000   \n",
       "75%     600.000000  1700.000000   85.000000   92.000000   16.500000   \n",
       "max    2340.000000  6800.000000  103.000000  100.000000   39.800000   \n",
       "\n",
       "       perc.alumni        expend  grad.rate  \n",
       "count   777.000000    777.000000  777.00000  \n",
       "mean     22.743887   9660.171171   65.46332  \n",
       "std      12.391801   5221.768440   17.17771  \n",
       "min       0.000000   3186.000000   10.00000  \n",
       "25%      13.000000   6751.000000   53.00000  \n",
       "50%      21.000000   8377.000000   65.00000  \n",
       "75%      31.000000  10830.000000   78.00000  \n",
       "max      64.000000  56233.000000  118.00000  "
      ]
     },
     "execution_count": 98,
     "metadata": {},
     "output_type": "execute_result"
    }
   ],
   "source": [
    "# a quick glance to see if there is ant illogical values\n",
    "df.describe()"
   ]
  },
  {
   "cell_type": "markdown",
   "metadata": {},
   "source": [
    "##### The minimum values of the columns are right, and the maximum values as well except for the PhD's and grad.rate maximum number which are higher than 100% \n",
    "##### we will take a look at how many rows has a higher percentage than 100%, then we will correct them by assigning 100 to it"
   ]
  },
  {
   "cell_type": "code",
   "execution_count": 99,
   "metadata": {},
   "outputs": [
    {
     "name": "stdout",
     "output_type": "stream",
     "text": [
      "There is 1 rows with a higher than 100% in PhD faculty\n",
      "and the indecies are 582\n"
     ]
    },
    {
     "data": {
      "text/html": [
       "<div>\n",
       "<style scoped>\n",
       "    .dataframe tbody tr th:only-of-type {\n",
       "        vertical-align: middle;\n",
       "    }\n",
       "\n",
       "    .dataframe tbody tr th {\n",
       "        vertical-align: top;\n",
       "    }\n",
       "\n",
       "    .dataframe thead th {\n",
       "        text-align: right;\n",
       "    }\n",
       "</style>\n",
       "<table border=\"1\" class=\"dataframe\">\n",
       "  <thead>\n",
       "    <tr style=\"text-align: right;\">\n",
       "      <th></th>\n",
       "      <th>uni_name</th>\n",
       "      <th>private</th>\n",
       "      <th>apps</th>\n",
       "      <th>accept</th>\n",
       "      <th>enroll</th>\n",
       "      <th>top10perc</th>\n",
       "      <th>top25perc</th>\n",
       "      <th>f.undergrad</th>\n",
       "      <th>p.undergrad</th>\n",
       "      <th>outstate</th>\n",
       "      <th>room.board</th>\n",
       "      <th>books</th>\n",
       "      <th>personal</th>\n",
       "      <th>phd</th>\n",
       "      <th>terminal</th>\n",
       "      <th>s.f.ratio</th>\n",
       "      <th>perc.alumni</th>\n",
       "      <th>expend</th>\n",
       "      <th>grad.rate</th>\n",
       "    </tr>\n",
       "  </thead>\n",
       "  <tbody>\n",
       "    <tr>\n",
       "      <th>582</th>\n",
       "      <td>Texas A&amp;M University at Galveston</td>\n",
       "      <td>0</td>\n",
       "      <td>529</td>\n",
       "      <td>481</td>\n",
       "      <td>243</td>\n",
       "      <td>22</td>\n",
       "      <td>47</td>\n",
       "      <td>1206</td>\n",
       "      <td>134</td>\n",
       "      <td>4860</td>\n",
       "      <td>3122</td>\n",
       "      <td>600</td>\n",
       "      <td>650</td>\n",
       "      <td>103</td>\n",
       "      <td>88</td>\n",
       "      <td>17.4</td>\n",
       "      <td>16</td>\n",
       "      <td>6415</td>\n",
       "      <td>43</td>\n",
       "    </tr>\n",
       "  </tbody>\n",
       "</table>\n",
       "</div>"
      ],
      "text/plain": [
       "                              uni_name  private  apps  accept  enroll  \\\n",
       "582  Texas A&M University at Galveston        0   529     481     243   \n",
       "\n",
       "     top10perc  top25perc  f.undergrad  p.undergrad  outstate  room.board  \\\n",
       "582         22         47         1206          134      4860        3122   \n",
       "\n",
       "     books  personal  phd  terminal  s.f.ratio  perc.alumni  expend  grad.rate  \n",
       "582    600       650  103        88       17.4           16    6415         43  "
      ]
     },
     "execution_count": 99,
     "metadata": {},
     "output_type": "execute_result"
    }
   ],
   "source": [
    "#rows with higher than 100% PhD faculty\n",
    "print('There is {} rows with a higher than 100% in PhD faculty'.format((df['phd'] > 100).sum()))\n",
    "print(\"and the indecies are\",df[df['phd'] > 100].index[0])\n",
    "df[df['phd'] > 100]"
   ]
  },
  {
   "cell_type": "code",
   "execution_count": 100,
   "metadata": {},
   "outputs": [
    {
     "name": "stdout",
     "output_type": "stream",
     "text": [
      "There is 0 rows with a higher than 100% in PhD faculty\n"
     ]
    },
    {
     "name": "stderr",
     "output_type": "stream",
     "text": [
      "F:\\Anaconda\\Anaconda_4_python3\\lib\\site-packages\\ipykernel_launcher.py:2: SettingWithCopyWarning: \n",
      "A value is trying to be set on a copy of a slice from a DataFrame\n",
      "\n",
      "See the caveats in the documentation: http://pandas.pydata.org/pandas-docs/stable/indexing.html#indexing-view-versus-copy\n",
      "  \n"
     ]
    }
   ],
   "source": [
    "# correcting the value and checking everything is correct\n",
    "df['phd'][582] = 100\n",
    "print('There is {} rows with a higher than 100% in PhD faculty'.format((df['phd'] > 100).sum()))"
   ]
  },
  {
   "cell_type": "code",
   "execution_count": 101,
   "metadata": {},
   "outputs": [
    {
     "name": "stdout",
     "output_type": "stream",
     "text": [
      "There is 1 rows with a higher than 100% in Graduation Rate\n",
      "and the indecies are 95\n"
     ]
    },
    {
     "data": {
      "text/html": [
       "<div>\n",
       "<style scoped>\n",
       "    .dataframe tbody tr th:only-of-type {\n",
       "        vertical-align: middle;\n",
       "    }\n",
       "\n",
       "    .dataframe tbody tr th {\n",
       "        vertical-align: top;\n",
       "    }\n",
       "\n",
       "    .dataframe thead th {\n",
       "        text-align: right;\n",
       "    }\n",
       "</style>\n",
       "<table border=\"1\" class=\"dataframe\">\n",
       "  <thead>\n",
       "    <tr style=\"text-align: right;\">\n",
       "      <th></th>\n",
       "      <th>uni_name</th>\n",
       "      <th>private</th>\n",
       "      <th>apps</th>\n",
       "      <th>accept</th>\n",
       "      <th>enroll</th>\n",
       "      <th>top10perc</th>\n",
       "      <th>top25perc</th>\n",
       "      <th>f.undergrad</th>\n",
       "      <th>p.undergrad</th>\n",
       "      <th>outstate</th>\n",
       "      <th>room.board</th>\n",
       "      <th>books</th>\n",
       "      <th>personal</th>\n",
       "      <th>phd</th>\n",
       "      <th>terminal</th>\n",
       "      <th>s.f.ratio</th>\n",
       "      <th>perc.alumni</th>\n",
       "      <th>expend</th>\n",
       "      <th>grad.rate</th>\n",
       "    </tr>\n",
       "  </thead>\n",
       "  <tbody>\n",
       "    <tr>\n",
       "      <th>95</th>\n",
       "      <td>Cazenovia College</td>\n",
       "      <td>1</td>\n",
       "      <td>3847</td>\n",
       "      <td>3433</td>\n",
       "      <td>527</td>\n",
       "      <td>9</td>\n",
       "      <td>35</td>\n",
       "      <td>1010</td>\n",
       "      <td>12</td>\n",
       "      <td>9384</td>\n",
       "      <td>4840</td>\n",
       "      <td>600</td>\n",
       "      <td>500</td>\n",
       "      <td>22</td>\n",
       "      <td>47</td>\n",
       "      <td>14.3</td>\n",
       "      <td>20</td>\n",
       "      <td>7697</td>\n",
       "      <td>118</td>\n",
       "    </tr>\n",
       "  </tbody>\n",
       "</table>\n",
       "</div>"
      ],
      "text/plain": [
       "             uni_name  private  apps  accept  enroll  top10perc  top25perc  \\\n",
       "95  Cazenovia College        1  3847    3433     527          9         35   \n",
       "\n",
       "    f.undergrad  p.undergrad  outstate  room.board  books  personal  phd  \\\n",
       "95         1010           12      9384        4840    600       500   22   \n",
       "\n",
       "    terminal  s.f.ratio  perc.alumni  expend  grad.rate  \n",
       "95        47       14.3           20    7697        118  "
      ]
     },
     "execution_count": 101,
     "metadata": {},
     "output_type": "execute_result"
    }
   ],
   "source": [
    "print('There is {} rows with a higher than 100% in Graduation Rate'.format((df['grad.rate'] > 100).sum()))\n",
    "print(\"and the indecies are\",df[df['grad.rate'] > 100].index[0])\n",
    "df[df['grad.rate'] > 100]"
   ]
  },
  {
   "cell_type": "code",
   "execution_count": 103,
   "metadata": {},
   "outputs": [
    {
     "name": "stdout",
     "output_type": "stream",
     "text": [
      "There is 0 rows with a higher than 100% in Graduation Rate\n"
     ]
    },
    {
     "name": "stderr",
     "output_type": "stream",
     "text": [
      "F:\\Anaconda\\Anaconda_4_python3\\lib\\site-packages\\ipykernel_launcher.py:2: SettingWithCopyWarning: \n",
      "A value is trying to be set on a copy of a slice from a DataFrame\n",
      "\n",
      "See the caveats in the documentation: http://pandas.pydata.org/pandas-docs/stable/indexing.html#indexing-view-versus-copy\n",
      "  \n"
     ]
    }
   ],
   "source": [
    "# correcting the value and checking everything is correct\n",
    "df['grad.rate'][95] = 100\n",
    "print('There is {} rows with a higher than 100% in Graduation Rate'.format((df['grad.rate'] > 100).sum()))"
   ]
  },
  {
   "cell_type": "markdown",
   "metadata": {},
   "source": [
    "### EDA\n",
    "#### Research Question 1: The Percentage of Puplic and private Universities in US "
   ]
  },
  {
   "cell_type": "code",
   "execution_count": 104,
   "metadata": {},
   "outputs": [
    {
     "data": {
      "text/plain": [
       "Text(0, 0.5, 'Count')"
      ]
     },
     "execution_count": 104,
     "metadata": {},
     "output_type": "execute_result"
    },
    {
     "data": {
      "image/png": "[encoded data removed]",
      "text/plain": [
       "<Figure size 864x432 with 2 Axes>"
      ]
     },
     "metadata": {
      "needs_background": "light"
     },
     "output_type": "display_data"
    }
   ],
   "source": [
    "plt.subplot(1,2,1)\n",
    "df['private'].value_counts().plot(kind = 'pie', figsize=(12,6), \n",
    "                                    fontsize=15, autopct='%1.0f%%')\n",
    "plt.title('Universities Pie Chart')\n",
    "\n",
    "###################################################################\n",
    "\n",
    "plt.subplot(1,2,2)\n",
    "df['private'].value_counts().plot(kind = 'bar', figsize=(12,6))\n",
    "plt.title('Universities Bar Chart')\n",
    "plt.xticks(ticks=[1, 0],labels=('Puplic','Private'))\n",
    "plt.ylabel('Count')"
   ]
  },
  {
   "cell_type": "markdown",
   "metadata": {},
   "source": [
    "##### There is 73% of Private Universities in the US with the count of almost 550."
   ]
  },
  {
   "cell_type": "markdown",
   "metadata": {},
   "source": [
    "#### Research Question 2:  Graduation Rate for Each Category."
   ]
  },
  {
   "cell_type": "code",
   "execution_count": 105,
   "metadata": {},
   "outputs": [
    {
     "data": {
      "image/png": "[encoded data removed]",
      "text/plain": [
       "<Figure size 432x288 with 1 Axes>"
      ]
     },
     "metadata": {
      "needs_background": "light"
     },
     "output_type": "display_data"
    }
   ],
   "source": [
    "df.groupby(['private']).mean()['grad.rate'].plot(kind = 'bar');\n",
    "plt.xticks(ticks= [0,1], labels=('Puplic','Private'));\n",
    "plt.xlabel('');\n",
    "plt.title('Average Graduaton Rate');"
   ]
  },
  {
   "cell_type": "code",
   "execution_count": 106,
   "metadata": {},
   "outputs": [
    {
     "data": {
      "image/png": "[encoded data removed]",
      "text/plain": [
       "<Figure size 864x432 with 1 Axes>"
      ]
     },
     "metadata": {
      "needs_background": "light"
     },
     "output_type": "display_data"
    }
   ],
   "source": [
    "pd.crosstab(df['private'],df['grad.rate']).plot(kind='bar',\n",
    "                                            figsize=(12,6) , legend = False);"
   ]
  },
  {
   "cell_type": "markdown",
   "metadata": {},
   "source": [
    "##### The private universities has a higher graduation rate than  puplic. "
   ]
  },
  {
   "cell_type": "markdown",
   "metadata": {},
   "source": [
    "#### Research Question3: The Distribution of tuitions across Universities?\n",
    "To answer this question, we will create a new column that sums up all estimated costs"
   ]
  },
  {
   "cell_type": "code",
   "execution_count": 107,
   "metadata": {},
   "outputs": [
    {
     "data": {
      "text/html": [
       "<div>\n",
       "<style scoped>\n",
       "    .dataframe tbody tr th:only-of-type {\n",
       "        vertical-align: middle;\n",
       "    }\n",
       "\n",
       "    .dataframe tbody tr th {\n",
       "        vertical-align: top;\n",
       "    }\n",
       "\n",
       "    .dataframe thead th {\n",
       "        text-align: right;\n",
       "    }\n",
       "</style>\n",
       "<table border=\"1\" class=\"dataframe\">\n",
       "  <thead>\n",
       "    <tr style=\"text-align: right;\">\n",
       "      <th></th>\n",
       "      <th>uni_name</th>\n",
       "      <th>private</th>\n",
       "      <th>apps</th>\n",
       "      <th>accept</th>\n",
       "      <th>enroll</th>\n",
       "      <th>top10perc</th>\n",
       "      <th>top25perc</th>\n",
       "      <th>f.undergrad</th>\n",
       "      <th>p.undergrad</th>\n",
       "      <th>outstate</th>\n",
       "      <th>room.board</th>\n",
       "      <th>books</th>\n",
       "      <th>personal</th>\n",
       "      <th>phd</th>\n",
       "      <th>terminal</th>\n",
       "      <th>s.f.ratio</th>\n",
       "      <th>perc.alumni</th>\n",
       "      <th>expend</th>\n",
       "      <th>grad.rate</th>\n",
       "      <th>tuition</th>\n",
       "    </tr>\n",
       "  </thead>\n",
       "  <tbody>\n",
       "    <tr>\n",
       "      <th>0</th>\n",
       "      <td>Abilene Christian University</td>\n",
       "      <td>1</td>\n",
       "      <td>1660</td>\n",
       "      <td>1232</td>\n",
       "      <td>721</td>\n",
       "      <td>23</td>\n",
       "      <td>52</td>\n",
       "      <td>2885</td>\n",
       "      <td>537</td>\n",
       "      <td>7440</td>\n",
       "      <td>3300</td>\n",
       "      <td>450</td>\n",
       "      <td>2200</td>\n",
       "      <td>70</td>\n",
       "      <td>78</td>\n",
       "      <td>18.1</td>\n",
       "      <td>12</td>\n",
       "      <td>7041</td>\n",
       "      <td>60</td>\n",
       "      <td>13390</td>\n",
       "    </tr>\n",
       "  </tbody>\n",
       "</table>\n",
       "</div>"
      ],
      "text/plain": [
       "                       uni_name  private  apps  accept  enroll  top10perc  \\\n",
       "0  Abilene Christian University        1  1660    1232     721         23   \n",
       "\n",
       "   top25perc  f.undergrad  p.undergrad  outstate  room.board  books  personal  \\\n",
       "0         52         2885          537      7440        3300    450      2200   \n",
       "\n",
       "   phd  terminal  s.f.ratio  perc.alumni  expend  grad.rate  tuition  \n",
       "0   70        78       18.1           12    7041         60    13390  "
      ]
     },
     "execution_count": 107,
     "metadata": {},
     "output_type": "execute_result"
    }
   ],
   "source": [
    "df['tuition'] = df['outstate'] + df['room.board'] + df['books'] + df['personal']\n",
    "df.head(1)"
   ]
  },
  {
   "cell_type": "code",
   "execution_count": 108,
   "metadata": {},
   "outputs": [],
   "source": [
    "# separating the dataset to private and puplic to see each distribution on its own\n",
    "priv_df = df[df['private'] == 1]\n",
    "pupl_df = df[df['private'] == 0]"
   ]
  },
  {
   "cell_type": "code",
   "execution_count": 109,
   "metadata": {},
   "outputs": [
    {
     "data": {
      "image/png": "[encoded data removed]",
      "text/plain": [
       "<Figure size 432x288 with 1 Axes>"
      ]
     },
     "metadata": {
      "needs_background": "light"
     },
     "output_type": "display_data"
    }
   ],
   "source": [
    "# plotting the disribution\n",
    "plt.hist(priv_df['tuition'], alpha =0.5 ,label='Private');\n",
    "plt.hist(pupl_df['tuition'], alpha =0.5 ,label='Puplic');\n",
    "plt.legend();"
   ]
  },
  {
   "cell_type": "code",
   "execution_count": 110,
   "metadata": {},
   "outputs": [
    {
     "data": {
      "image/png": "[encoded data removed]",
      "text/plain": [
       "<Figure size 432x288 with 1 Axes>"
      ]
     },
     "metadata": {
      "needs_background": "light"
     },
     "output_type": "display_data"
    }
   ],
   "source": [
    "# showing them as proportion\n",
    "plt.hist(priv_df['tuition'], alpha =0.5 ,label='Private',density=True);\n",
    "plt.hist(pupl_df['tuition'], alpha =0.5 ,label='Puplic',density=True);\n",
    "plt.legend();"
   ]
  },
  {
   "cell_type": "markdown",
   "metadata": {},
   "source": [
    "The Private uni's has an average of 18000 and goes to a maximum of 30,000, While the puplic ones with an average of 12,000 and a maximum of 16,000  ****without including of what might seem as an outlier****"
   ]
  },
  {
   "cell_type": "markdown",
   "metadata": {},
   "source": [
    "##### now that we've explored the dataset and answered some question, we are ready for the K-means Cluster Algorithm"
   ]
  },
  {
   "cell_type": "markdown",
   "metadata": {},
   "source": [
    "### K Means Cluster Algorithm"
   ]
  },
  {
   "cell_type": "markdown",
   "metadata": {},
   "source": [
    "K Means Clustering is an unsupervised learning algorithm that tries to cluster data based on their similarity. Unsupervised learning means that there is no outcome to be predicted, and the algorithm just tries to find patterns in the data. In k means clustering, we have the specify the number of clusters we want the data to be grouped into. The algorithm randomly assigns each observation to a cluster, and finds the centroid of each cluster. Then, the algorithm iterates through two steps: Reassign data points to the cluster whose centroid is closest. Calculate new centroid of each cluster. These two steps are repeated till the within cluster variation cannot be reduced any further. The within cluster variation is calculated as the sum of the euclidean distance between the data points and their respective cluster centroids."
   ]
  },
  {
   "cell_type": "markdown",
   "metadata": {},
   "source": [
    "<img src=\"img/img.png\" width=\"500\" />"
   ]
  },
  {
   "cell_type": "code",
   "execution_count": 130,
   "metadata": {},
   "outputs": [
    {
     "data": {
      "text/plain": [
       "['apps',\n",
       " 'accept',\n",
       " 'enroll',\n",
       " 'top10perc',\n",
       " 'top25perc',\n",
       " 'f.undergrad',\n",
       " 'p.undergrad',\n",
       " 'outstate',\n",
       " 'room.board',\n",
       " 'books',\n",
       " 'personal',\n",
       " 'phd',\n",
       " 'terminal',\n",
       " 's.f.ratio',\n",
       " 'perc.alumni',\n",
       " 'expend',\n",
       " 'grad.rate',\n",
       " 'tuition']"
      ]
     },
     "execution_count": 130,
     "metadata": {},
     "output_type": "execute_result"
    }
   ],
   "source": [
    "list(df.columns)[2:]"
   ]
  },
  {
   "cell_type": "code",
   "execution_count": 131,
   "metadata": {},
   "outputs": [],
   "source": [
    "from sklearn.cluster import KMeans\n",
    "\n",
    "features = list(df.columns)[2:]\n",
    "label = 'private'"
   ]
  },
  {
   "cell_type": "markdown",
   "metadata": {},
   "source": [
    "#### Initiate and fit the model"
   ]
  },
  {
   "cell_type": "code",
   "execution_count": 132,
   "metadata": {},
   "outputs": [
    {
     "data": {
      "text/plain": [
       "KMeans(algorithm='auto', copy_x=True, init='k-means++', max_iter=300,\n",
       "       n_clusters=2, n_init=10, n_jobs=None, precompute_distances='auto',\n",
       "       random_state=None, tol=0.0001, verbose=0)"
      ]
     },
     "execution_count": 132,
     "metadata": {},
     "output_type": "execute_result"
    }
   ],
   "source": [
    "model = KMeans(n_clusters = 2)\n",
    "model.fit(df[features])"
   ]
  },
  {
   "cell_type": "markdown",
   "metadata": {},
   "source": [
    "##### lookng at first five results"
   ]
  },
  {
   "cell_type": "code",
   "execution_count": 134,
   "metadata": {},
   "outputs": [
    {
     "data": {
      "text/plain": [
       "array([0, 1, 0, 1, 0])"
      ]
     },
     "execution_count": 134,
     "metadata": {},
     "output_type": "execute_result"
    }
   ],
   "source": [
    "model.labels_[:5]"
   ]
  },
  {
   "cell_type": "markdown",
   "metadata": {},
   "source": [
    "#### Evaluating"
   ]
  },
  {
   "cell_type": "code",
   "execution_count": 135,
   "metadata": {},
   "outputs": [
    {
     "name": "stdout",
     "output_type": "stream",
     "text": [
      "[[206   6]\n",
      " [340 225]]\n"
     ]
    }
   ],
   "source": [
    "from sklearn.metrics import confusion_matrix , classification_report, mean_absolute_error\n",
    "\n",
    "print(confusion_matrix(df[label],model.labels_))"
   ]
  },
  {
   "cell_type": "code",
   "execution_count": 136,
   "metadata": {},
   "outputs": [
    {
     "name": "stdout",
     "output_type": "stream",
     "text": [
      "              precision    recall  f1-score   support\n",
      "\n",
      "           0       0.38      0.97      0.54       212\n",
      "           1       0.97      0.40      0.57       565\n",
      "\n",
      "    accuracy                           0.55       777\n",
      "   macro avg       0.68      0.68      0.55       777\n",
      "weighted avg       0.81      0.55      0.56       777\n",
      "\n"
     ]
    }
   ],
   "source": [
    "print(classification_report(df[label],model.labels_))"
   ]
  },
  {
   "cell_type": "code",
   "execution_count": 137,
   "metadata": {},
   "outputs": [
    {
     "name": "stdout",
     "output_type": "stream",
     "text": [
      "0.4453024453024453\n"
     ]
    }
   ],
   "source": [
    "print(mean_absolute_error(df[label],model.labels_))"
   ]
  },
  {
   "cell_type": "markdown",
   "metadata": {},
   "source": [
    "## Conclusion"
   ]
  },
  {
   "cell_type": "markdown",
   "metadata": {},
   "source": [
    "This dataset shows statistics for a large number of US Colleges from the 1995 issue of US News and World Report.\n",
    "\n",
    "It also have 777 university with the following 19 feature,\n",
    "\n",
    "This code uses pandas and matplotlib with good documentation at each step."
   ]
  },
  {
   "cell_type": "markdown",
   "metadata": {},
   "source": [
    "After cleaning our dataset we asked these questions:\n",
    "1. What is the precantage between Private and Puplic Universities?\n",
    "    \n",
    "        There is 73% of Private Universities in the US with the count of almost 550.\n",
    "2. Which category has a higher graduation rate?\n",
    "    \n",
    "        The private universities has a higher graduation rate than puplic.\n",
    "3. What is The Distribution of tuitions across Universities?\n",
    "    \n",
    "        The Private uni's has an average of 18000 and goes to a maximum of 30,000, While the puplic ones with an average of 12,000 and a maximum of 16,000 without including of what might seem as an outlier"
   ]
  },
  {
   "cell_type": "markdown",
   "metadata": {},
   "source": [
    "we used a KMeans Cluster algorithm:\n",
    "\n",
    "    The K Means Clustering is an unsupervised learning algorithm that tries to cluster data based on their similarity. Unsupervised learning means that there is no outcome to be predicted, and the algorithm just tries to find patterns in the data. In k means clustering, we have the specify the number of clusters we want the data to be grouped into. The algorithm randomly assigns each observation to a cluster, and finds the centroid of each cluster. Then, the algorithm iterates through two steps: Reassign data points to the cluster whose centroid is closest. Calculate new centroid of each cluster. These two steps are repeated till the within cluster variation cannot be reduced any further. The within cluster variation is calculated as the sum of the euclidean distance between the data points and their respective cluster centroids."
   ]
  }
 ],
 "metadata": {
  "kernelspec": {
   "display_name": "Python 3",
   "language": "python",
   "name": "python3"
  },
  "language_info": {
   "codemirror_mode": {
    "name": "ipython",
    "version": 3
   },
   "file_extension": ".py",
   "mimetype": "text/x-python",
   "name": "python",
   "nbconvert_exporter": "python",
   "pygments_lexer": "ipython3",
   "version": "3.7.3"
  }
 },
 "nbformat": 4,
 "nbformat_minor": 2
}
